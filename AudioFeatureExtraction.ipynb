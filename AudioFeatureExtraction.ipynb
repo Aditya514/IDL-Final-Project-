{
  "nbformat": 4,
  "nbformat_minor": 0,
  "metadata": {
    "colab": {
      "name": "AudioFeatureExtraction",
      "provenance": [],
      "collapsed_sections": [],
      "machine_shape": "hm"
    },
    "kernelspec": {
      "name": "python3",
      "display_name": "Python 3"
    },
    "language_info": {
      "name": "python"
    },
    "accelerator": "GPU"
  },
  "cells": [
    {
      "cell_type": "code",
      "execution_count": null,
      "metadata": {
        "id": "Mk19a_4yOyUu"
      },
      "outputs": [],
      "source": [
        "from google.colab import drive\n",
        "drive.mount('/content/drive')"
      ]
    },
    {
      "cell_type": "code",
      "source": [
        "!pwd"
      ],
      "metadata": {
        "id": "YUgoo9KGPgbr"
      },
      "execution_count": null,
      "outputs": []
    },
    {
      "cell_type": "code",
      "source": [
        "%cd /content/drive/MyDrive/IDL Project/Final-Submission/Codes"
      ],
      "metadata": {
        "id": "Q32S3FgtPEoh"
      },
      "execution_count": null,
      "outputs": []
    },
    {
      "cell_type": "code",
      "source": [
        "import pandas as pd\n",
        "import numpy as np\n",
        "import os\n",
        "import torch\n",
        "import torchaudio"
      ],
      "metadata": {
        "id": "aQnqO2v2PEq2"
      },
      "execution_count": null,
      "outputs": []
    },
    {
      "cell_type": "code",
      "source": [
        "%cd /content/drive/MyDrive/IDL Project/Final-Submission/SSPNet-Speaker-Personality-Corpus/Audio_clips"
      ],
      "metadata": {
        "id": "QZEW_KGCVEwF"
      },
      "execution_count": null,
      "outputs": []
    },
    {
      "cell_type": "code",
      "source": [
        "wav_files=os.listdir(\"/content/drive/MyDrive/IDL Project/Final-Submission/SSPNet-Speaker-Personality-Corpus/Audio_clips\")"
      ],
      "metadata": {
        "id": "aNGxpH49PE5I"
      },
      "execution_count": null,
      "outputs": []
    },
    {
      "cell_type": "code",
      "source": [
        "mfcc=torchaudio.transforms.MFCC()\n",
        "for i, filename in enumerate(wav_files):\n",
        "  print(i)\n",
        "  waveform, sample_rate = torchaudio.load(filename)\n",
        "  mfcc_tensor=mfcc(waveform)\n",
        "  # print(mfcc_tensor.shape)\n",
        "  # print(filename)\n",
        "  filename=filename.split(\".\")[0]\n",
        "  mfcc_numpy=np.save(\"/content/drive/MyDrive/IDL Project/Final-Submission/Merged Dataset/MFCCs/{}.npy\".format(filename),mfcc_tensor.numpy())"
      ],
      "metadata": {
        "id": "9SWlHh88Tv-v"
      },
      "execution_count": null,
      "outputs": []
    },
    {
      "cell_type": "code",
      "source": [
        ""
      ],
      "metadata": {
        "id": "_L42dY25TwS0"
      },
      "execution_count": null,
      "outputs": []
    }
  ]
}